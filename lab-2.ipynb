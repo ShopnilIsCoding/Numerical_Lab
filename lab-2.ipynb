{
 "cells": [
  {
   "cell_type": "code",
   "execution_count": 125,
   "metadata": {},
   "outputs": [
    {
     "data": {
      "text/plain": [
       "4"
      ]
     },
     "execution_count": 125,
     "metadata": {},
     "output_type": "execute_result"
    }
   ],
   "source": [
    "f = [1,-2,0,4]\n",
    "f\n",
    "len(f)"
   ]
  },
  {
   "cell_type": "code",
   "execution_count": 126,
   "metadata": {},
   "outputs": [
    {
     "name": "stdout",
     "output_type": "stream",
     "text": [
      "79\n"
     ]
    }
   ],
   "source": [
    "def func(x,f):\n",
    "    result=0\n",
    "    start=len(f)-1\n",
    "    for i in range(len(f)):\n",
    "        result+= f[start]* (x**i)\n",
    "        #print(result)\n",
    "        start-=1\n",
    "    return result\n",
    "  #result = f[0]*x^3+f[1]*x^2+f[2]*x+f[3]*1\n",
    "\n",
    "\n",
    "print(func(5,f))"
   ]
  },
  {
   "cell_type": "code",
   "execution_count": 127,
   "metadata": {},
   "outputs": [],
   "source": [
    "def bisection_method(f, xl, xu, epsilon_s):\n",
    "    if func(xl, f) * func(xu, f) >= 0:\n",
    "        print(\"Bisection method not applicable.\")\n",
    "        return None\n",
    "\n",
    "    while True:\n",
    "        xm = (xl + xu) / 2\n",
    "        fxl = func(xl, f)\n",
    "        fxm = func(xm, f)\n",
    "\n",
    "        absolute_relative_approx_error = abs((xm - xl) / xm) * 100\n",
    "\n",
    "        print(f\"xm = {xm}, Absolute Relative Approximate Error = {absolute_relative_approx_error}\")\n",
    "\n",
    "        if fxl * fxm < 0:\n",
    "            xu = xm\n",
    "        else:\n",
    "            xl = xm\n",
    "\n",
    "        if absolute_relative_approx_error <= epsilon_s or abs(xu - xl) < epsilon_s:\n",
    "            \n",
    "            return xm\n",
    "\n",
    "\n",
    "\n"
   ]
  },
  {
   "cell_type": "code",
   "execution_count": 128,
   "metadata": {},
   "outputs": [
    {
     "data": {
      "text/plain": [
       "160329"
      ]
     },
     "execution_count": 128,
     "metadata": {},
     "output_type": "execute_result"
    }
   ],
   "source": [
    "func(55,f)"
   ]
  },
  {
   "cell_type": "code",
   "execution_count": 129,
   "metadata": {},
   "outputs": [
    {
     "data": {
      "text/plain": [
       "-34812"
      ]
     },
     "execution_count": 129,
     "metadata": {},
     "output_type": "execute_result"
    }
   ],
   "source": [
    "func(-32,f)"
   ]
  },
  {
   "cell_type": "code",
   "execution_count": 130,
   "metadata": {},
   "outputs": [
    {
     "name": "stdout",
     "output_type": "stream",
     "text": [
      "xm = 11.5, Absolute Relative Approximate Error = 378.2608695652174\n",
      "xm = -10.25, Absolute Relative Approximate Error = 212.19512195121953\n",
      "xm = 0.625, Absolute Relative Approximate Error = 1739.9999999999998\n",
      "xm = -4.8125, Absolute Relative Approximate Error = 112.98701298701299\n",
      "xm = -2.09375, Absolute Relative Approximate Error = 129.8507462686567\n",
      "xm = -0.734375, Absolute Relative Approximate Error = 185.1063829787234\n",
      "xm = -1.4140625, Absolute Relative Approximate Error = 48.06629834254144\n",
      "xm = -1.07421875, Absolute Relative Approximate Error = 31.636363636363633\n",
      "xm = -1.244140625, Absolute Relative Approximate Error = 13.657770800627944\n",
      "xm = -1.1591796875, Absolute Relative Approximate Error = 7.329401853411962\n",
      "xm = -1.11669921875, Absolute Relative Approximate Error = 3.8041101880192394\n",
      "xm = -1.137939453125, Absolute Relative Approximate Error = 1.8665522420081528\n",
      "xm = -1.1273193359375, Absolute Relative Approximate Error = 0.9420682187330807\n",
      "xm = -1.13262939453125, Absolute Relative Approximate Error = 0.4688257800290995\n",
      "xm = -1.129974365234375, Absolute Relative Approximate Error = 0.23496367515596725\n",
      "xm = -1.1313018798828125, Absolute Relative Approximate Error = 0.11734397971432811\n",
      "xm = -1.1306381225585938, Absolute Relative Approximate Error = 0.05870643409021897\n"
     ]
    },
    {
     "data": {
      "text/plain": [
       "-1.1306381225585938"
      ]
     },
     "execution_count": 130,
     "metadata": {},
     "output_type": "execute_result"
    }
   ],
   "source": [
    "bisection_method(f,55,-32,0.001)"
   ]
  },
  {
   "cell_type": "code",
   "execution_count": 132,
   "metadata": {},
   "outputs": [
    {
     "data": {
      "text/plain": [
       "-0.002027965120047437"
      ]
     },
     "execution_count": 132,
     "metadata": {},
     "output_type": "execute_result"
    }
   ],
   "source": [
    "func(-1.1306381225585938,f)"
   ]
  }
 ],
 "metadata": {
  "kernelspec": {
   "display_name": "Python 3",
   "language": "python",
   "name": "python3"
  },
  "language_info": {
   "codemirror_mode": {
    "name": "ipython",
    "version": 3
   },
   "file_extension": ".py",
   "mimetype": "text/x-python",
   "name": "python",
   "nbconvert_exporter": "python",
   "pygments_lexer": "ipython3",
   "version": "3.12.1"
  }
 },
 "nbformat": 4,
 "nbformat_minor": 2
}
