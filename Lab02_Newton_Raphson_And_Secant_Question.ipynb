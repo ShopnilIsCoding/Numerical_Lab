{
  "cells": [
    {
      "cell_type": "markdown",
      "metadata": {
        "id": "SNTowc_VcAVa"
      },
      "source": [
        "## Newton Raphson"
      ]
    },
    {
      "cell_type": "markdown",
      "metadata": {
        "id": "vHdjRDKGFvJs"
      },
      "source": [
        "Lets say we have an equation  f(x) = x<sup>3</sup>-2x<sup>2</sup>+4 , then we will have a list with the following numbers where it is a list of coefficients."
      ]
    },
    {
      "cell_type": "code",
      "execution_count": 2,
      "metadata": {
        "id": "ncT8DcfJuaSn"
      },
      "outputs": [],
      "source": [
        "f = [1,-2,0,4]"
      ]
    },
    {
      "cell_type": "markdown",
      "metadata": {
        "id": "t6I_qHQnGTj9"
      },
      "source": [
        "The derivative of f(x) will be 3x<sup>2</sup>-4x"
      ]
    },
    {
      "cell_type": "code",
      "execution_count": 3,
      "metadata": {
        "id": "A2TkgO2Iue6Y"
      },
      "outputs": [],
      "source": [
        "df = [3,-4,0]"
      ]
    },
    {
      "cell_type": "markdown",
      "metadata": {
        "id": "V1Hx1RooJW7M"
      },
      "source": [
        "This func function works like f(x). As for the input, we will be giving the equation which is \"f\" and the x value."
      ]
    },
    {
      "cell_type": "code",
      "execution_count": 4,
      "metadata": {
        "id": "1pB7V0xru0sK"
      },
      "outputs": [],
      "source": [
        "def func(f, x):\n",
        "    sum=0\n",
        "    temp=0\n",
        "    for i in range(len(f)):\n",
        "        sum+=f[i]*(x**(len(f)-1-temp))\n",
        "        temp+=1\n",
        "\n",
        "    return sum\n"
      ]
    },
    {
      "cell_type": "markdown",
      "metadata": {
        "id": "jb9HlgRNKajc"
      },
      "source": [
        "Complete the newton raphson method."
      ]
    },
    {
      "cell_type": "code",
      "execution_count": 5,
      "metadata": {
        "id": "QuJYmQ25u0uQ"
      },
      "outputs": [],
      "source": [
        "def newton_raphson(f, df, x0, tol):\n",
        "    # f = the list which holds the coefficients of the equation\n",
        "    # df =  the list which holds the coefficients of the derived equation\n",
        "    # x0 = starting point\n",
        "    # tol = tolerace level\n",
        "    x_old= x0\n",
        "\n",
        "    while True:\n",
        "        f_x_old=func(f,x_old)\n",
        "        df_x_old= func(df,x_old)\n",
        "\n",
        "      # Use the equation x_new = x_old - f(x) / df(x), to get the updated value\n",
        "        x_new =x_old-f_x_old /df_x_old\n",
        "      # Check the tolerance level with the equation relative_error = abs((x_old - x_new) / x_new) * 100\n",
        "        relative_error = abs((x_new - x_old) / x_new) * 100\n",
        "      # If the relative error is below tolerance level, return the x value.\n",
        "        if relative_error < tol:\n",
        "            return x_new\n",
        "      # Update the x_old value\n",
        "        x_old = x_new"
      ]
    },
    {
      "cell_type": "code",
      "execution_count": 6,
      "metadata": {
        "id": "I_DWCEV6wFJe"
      },
      "outputs": [],
      "source": [
        "# Use the equation with the tolerance level of 0.0001\n",
        "result = newton_raphson(f, df, 5, 0.00001)\n"
      ]
    },
    {
      "cell_type": "code",
      "execution_count": 7,
      "metadata": {
        "colab": {
          "base_uri": "https://localhost:8080/"
        },
        "id": "tsNfYOG7aqvf",
        "outputId": "2a462eee-068a-4e9b-dc3d-6d2e3e3030e4"
      },
      "outputs": [
        {
          "data": {
            "text/plain": [
              "-8.881784197001252e-16"
            ]
          },
          "execution_count": 7,
          "metadata": {},
          "output_type": "execute_result"
        }
      ],
      "source": [
        "# check if we get f(x) = 0\n",
        "func(f, result)"
      ]
    },
    {
      "cell_type": "code",
      "execution_count": 19,
      "metadata": {
        "id": "VzXMIH6PN2R7"
      },
      "outputs": [],
      "source": [
        "def secant(f, x_current, x_prev,  tol):\n",
        "  # f = the list which holds the coefficients of the equation\n",
        "  # x_current = 1st intial point\n",
        "  # x_prev = 2nd intial point\n",
        "  # tol = tolerace level\n",
        "\n",
        "  while(True):\n",
        "     f_x_current = func(f, x_current)\n",
        "     f_x_prev = func(f, x_prev)\n",
        "    # Use the equation x_next = x_current - (f(x_current) * (x_current - x_prev)) / (f(x_current) - f(x_prev)), to get the updated value\n",
        "     x_next = x_current - (f_x_current * (x_current - x_prev)) / (f_x_current - f_x_prev)\n",
        "    # Check the tolerance level with the equation relative_error = abs((x_next - x_current) / x_next) * 100\n",
        "     relative_error = abs((x_next - x_current) / x_next) * 100\n",
        "    # If the relative error is below tolerance level, return the x_next value.\n",
        "     if relative_error < tol:\n",
        "      return x_next\n",
        "    # Update the x_prev and x_current value\n",
        "     x_prev = x_current\n",
        "     x_current = x_next\n"
      ]
    },
    {
      "cell_type": "code",
      "execution_count": 20,
      "metadata": {
        "id": "JSR4SKL3N_jy"
      },
      "outputs": [],
      "source": [
        "\n",
        "result = secant(f, 5, 7,  0.00001)"
      ]
    },
    {
      "cell_type": "code",
      "execution_count": 21,
      "metadata": {
        "colab": {
          "base_uri": "https://localhost:8080/"
        },
        "id": "bc2KoFJ5YMlc",
        "outputId": "ca6f5712-86ca-4091-a6e6-dcba7e1f4b96"
      },
      "outputs": [
        {
          "data": {
            "text/plain": [
              "8.881784197001252e-16"
            ]
          },
          "execution_count": 21,
          "metadata": {},
          "output_type": "execute_result"
        }
      ],
      "source": [
        "\n",
        "func(f,result)"
      ]
    },
    {
      "cell_type": "code",
      "execution_count": null,
      "metadata": {
        "id": "7he5MyPkYdo8"
      },
      "outputs": [],
      "source": []
    }
  ],
  "metadata": {
    "colab": {
      "provenance": []
    },
    "kernelspec": {
      "display_name": "Python 3",
      "name": "python3"
    },
    "language_info": {
      "codemirror_mode": {
        "name": "ipython",
        "version": 3
      },
      "file_extension": ".py",
      "mimetype": "text/x-python",
      "name": "python",
      "nbconvert_exporter": "python",
      "pygments_lexer": "ipython3",
      "version": "3.12.1"
    }
  },
  "nbformat": 4,
  "nbformat_minor": 0
}
