{
 "cells": [
  {
   "cell_type": "code",
   "execution_count": 2,
   "source": [
    "f = [1,-2,0,4]\n",
    "f\n",
    "len(f)"
   ],
   "outputs": [
    {
     "output_type": "execute_result",
     "data": {
      "text/plain": [
       "4"
      ]
     },
     "metadata": {},
     "execution_count": 2
    }
   ],
   "metadata": {}
  },
  {
   "cell_type": "code",
   "execution_count": 3,
   "source": [
    "def func(x,f):\n",
    "    result=0\n",
    "    start=len(f)-1\n",
    "    for i in range(len(f)):\n",
    "        result+= f[start]* (x**i)\n",
    "        #print(result)\n",
    "        start-=1\n",
    "    return result\n",
    "  #result = f[0]*x^3+f[1]*x^2+f[2]*x+f[3]*1\n",
    "\n",
    "\n",
    "print(func(5,f))"
   ],
   "outputs": [
    {
     "output_type": "stream",
     "name": "stdout",
     "text": [
      "79\n"
     ]
    }
   ],
   "metadata": {}
  },
  {
   "cell_type": "code",
   "execution_count": 4,
   "source": [
    "def bisection_method(f, xl, xu, epsilon):\n",
    "    if func(xl,f)*func(xu,f)>=0:\n",
    "        print(\"Bisection method not matched\")\n",
    "        return None\n",
    "   \n",
    "    while (1):\n",
    "        xm=(xl+xu)/2\n",
    "\n",
    "        fxl=func(xl,f)\n",
    "        fxm=func(xm,f)\n",
    "\n",
    "        if fxl*fxm<0:\n",
    "            xu=xm\n",
    "        elif fxl*fxm > 0:\n",
    "            xl=xm\n",
    "        else:\n",
    "            print(f\"Root : {xm}\")\n",
    "            return xm\n",
    "\n",
    "\n",
    ""
   ],
   "outputs": [],
   "metadata": {}
  },
  {
   "cell_type": "code",
   "execution_count": 6,
   "source": [
    "func(55,f)"
   ],
   "outputs": [
    {
     "output_type": "execute_result",
     "data": {
      "text/plain": [
       "160329"
      ]
     },
     "metadata": {},
     "execution_count": 6
    }
   ],
   "metadata": {}
  },
  {
   "cell_type": "code",
   "execution_count": 8,
   "source": [
    "func(-32,f)"
   ],
   "outputs": [
    {
     "output_type": "execute_result",
     "data": {
      "text/plain": [
       "-34812"
      ]
     },
     "metadata": {},
     "execution_count": 8
    }
   ],
   "metadata": {}
  },
  {
   "cell_type": "code",
   "execution_count": 9,
   "source": [
    "bisection_method(f,-32,55,0.001)"
   ],
   "outputs": [],
   "metadata": {}
  }
 ],
 "nbformat": 4,
 "nbformat_minor": 2,
 "metadata": {
  "language_info": {
   "codemirror_mode": {
    "name": "ipython",
    "version": 3
   },
   "file_extension": ".py",
   "mimetype": "text/x-python",
   "name": "python",
   "nbconvert_exporter": "python",
   "pygments_lexer": "ipython3",
   "version": 3
  }
 }
}