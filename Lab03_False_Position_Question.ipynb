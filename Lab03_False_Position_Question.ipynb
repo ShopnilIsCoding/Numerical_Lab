{
 "cells": [
  {
   "cell_type": "markdown",
   "id": "88b96f5a",
   "metadata": {},
   "source": [
    "# **Lab 2 : False Position and Secant method**<br>\n",
    "\n",
    "The False Position method is one of the methods of finding roots of a non-linear function. Similar to the Bisection method, it falls under the category of **Bracketing methods** since the initial boundary guesses, x<sub>l</sub> and x<sub>u</sub>, must bracket the actual root. And the assumption here is that the function is real continuous, otherwise the False position method wouldn't work. The main difference between the Bisection method and False position method is that it takes advantage of the fact that one of the boundary values, either x<sub>l</sub> or x<sub>u</sub>, would have their functional value be closer to the zero of the function, and this would result in the new estimation x<sub>r</sub> be closer to one of the bracketing values than the mid-point x<sub>m</sub>.\n",
    "\n",
    "In today's lab, we will be implementing the False position method in python. Just like in the previous lab for Bisection method, we will be considering the function f(x) as an array of coefficients, for instance if we want to have f(x) = x<sup>3</sup>+x-2, then in python we will create an array as follows:\n"
   ]
  },
  {
   "cell_type": "code",
   "execution_count": 1,
   "id": "2357ac79",
   "metadata": {},
   "outputs": [],
   "source": [
    "f = [1,0,1,-2]"
   ]
  },
  {
   "cell_type": "markdown",
   "id": "b16777f4",
   "metadata": {},
   "source": [
    "Note that your implementation should be able to handle the array f of any size,which means it should be able to find the root of any given polynomial. But for testing purposes, you can use the array f given here.\n",
    "\n",
    "Next, you will need to create a user-defined function as follows\n",
    "```\n",
    "func(f, x)\n",
    "```\n",
    "This function will take the coefficent array f and a point x as input and evaluate the value of the function at that point x using a loop and return that value. This function will be called in the other function that you will implement, which is as follows:\n",
    "```\n",
    "falseposition(f, xl, xu, epsilon)\n",
    "```\n",
    "This function will return the root of the equation represented by the array f and in case it does not reach the root exactly then it will return the close enough value to the root that has an absolute relative approximate error of at most epsilon (%)."
   ]
  },
  {
   "cell_type": "markdown",
   "id": "a1312577",
   "metadata": {},
   "source": [
    "##Task 1\n",
    "Implement the function for False position method following the requirements set earlier. Write a script after the function to call it and test whether it is working correctly."
   ]
  },
  {
   "cell_type": "code",
   "execution_count": 2,
   "id": "344bc674",
   "metadata": {},
   "outputs": [],
   "source": [
    "def func(f, x):\n",
    "    sum=0\n",
    "    temp=0\n",
    "    for i in range(len(f)):\n",
    "        sum+=f[i]*(x**(len(f)-1-temp))\n",
    "        temp+=1\n",
    "        \n",
    "    return sum"
   ]
  },
  {
   "cell_type": "markdown",
   "id": "a39b2a58",
   "metadata": {},
   "source": [
    "Complete the false position method given below"
   ]
  },
  {
   "cell_type": "code",
   "execution_count": 4,
   "id": "204ea4c5",
   "metadata": {},
   "outputs": [],
   "source": [
    "def falseposition(f, xl, xu, epsilon):\n",
    "    # f : coefficients of the equation\n",
    "    # xl : lower point\n",
    "    # xu : upper point\n",
    "    # epsilon : Tolerance value\n",
    "    \n",
    "    old_x=0\n",
    "\n",
    "    while(True):\n",
    "        #Use the equation to find the new point new_x =  (xu*f(xl) - xl*f(xu))/(f(xl) - f(xu))\n",
    "        new_x = (xu * func(f, xl) - xl * func(f, xu)) / (func(f, xl) - func(f, xu))\n",
    "        # check if it meets the condition of f(xl)*f(new_x)<0\n",
    "        if func(f, xl) * func(f, new_x) < 0:\n",
    "            xu = new_x\n",
    "        else:\n",
    "            xl = new_x\n",
    "        # Check the threshold value abs((new_x-old_x)/new_x)*100 <epsilon \n",
    "        if abs((new_x - old_x) / new_x) * 100 < epsilon:\n",
    "            break\n",
    "        #Update the old_x\n",
    "        old_x = new_x\n",
    "        return new_x"
   ]
  },
  {
   "cell_type": "code",
   "execution_count": 5,
   "id": "f632cac0",
   "metadata": {
    "scrolled": true
   },
   "outputs": [],
   "source": [
    "x=falseposition(f, -2, 2, .005)"
   ]
  },
  {
   "cell_type": "code",
   "execution_count": 6,
   "id": "1a07cadd",
   "metadata": {},
   "outputs": [
    {
     "name": "stdout",
     "output_type": "stream",
     "text": [
      "Approximate root: 0.4\n"
     ]
    }
   ],
   "source": [
    "print(\"Approximate root:\", x)"
   ]
  }
 ],
 "metadata": {
  "kernelspec": {
   "display_name": "Python 3",
   "language": "python",
   "name": "python3"
  },
  "language_info": {
   "codemirror_mode": {
    "name": "ipython",
    "version": 3
   },
   "file_extension": ".py",
   "mimetype": "text/x-python",
   "name": "python",
   "nbconvert_exporter": "python",
   "pygments_lexer": "ipython3",
   "version": "3.12.1"
  }
 },
 "nbformat": 4,
 "nbformat_minor": 5
}
